{
  "nbformat": 4,
  "nbformat_minor": 0,
  "metadata": {
    "colab": {
      "provenance": []
    },
    "kernelspec": {
      "name": "python3",
      "display_name": "Python 3"
    },
    "language_info": {
      "name": "python"
    }
  },
  "cells": [
    {
      "cell_type": "code",
      "execution_count": null,
      "metadata": {
        "id": "JHtVRs1oO4Yh"
      },
      "outputs": [],
      "source": []
    },
    {
      "cell_type": "markdown",
      "source": [
        "#1.What are data structures, and why are they important ?\n",
        "\n",
        "--Data Structures are ways of organizing and storing data so that it can be     accessed and modified efficiently.\n"
      ],
      "metadata": {
        "id": "cN99oOxvYG3I"
      }
    },
    {
      "cell_type": "markdown",
      "source": [
        "#2.Explain the difference between mutable and immutable data types with examples.\n",
        "\n",
        " --Lists are mutable in Python. We can add or remove elements from the list. In Python, mutability refers to the capability of an object to be changed or modified after its creation.\n",
        "\n",
        "--Immutable Objects are of in-built datatypes like int, float, bool, string, Unicode, and tuple. In simple words, an immutable object can’t be changed after it is created.\n",
        "For Example."
      ],
      "metadata": {
        "id": "5-0DBqy5J-xH"
      }
    },
    {
      "cell_type": "code",
      "source": [
        "s=\"Python\"\n",
        "s[1]=\"i\" # string object does not allow item assignment.\n",
        "s"
      ],
      "metadata": {
        "colab": {
          "base_uri": "https://localhost:8080/",
          "height": 176
        },
        "id": "6wgxhQHqaowx",
        "outputId": "facfded2-e61a-432d-9864-48b7cb4e8921"
      },
      "execution_count": null,
      "outputs": [
        {
          "output_type": "error",
          "ename": "TypeError",
          "evalue": "'str' object does not support item assignment",
          "traceback": [
            "\u001b[0;31m---------------------------------------------------------------------------\u001b[0m",
            "\u001b[0;31mTypeError\u001b[0m                                 Traceback (most recent call last)",
            "\u001b[0;32m<ipython-input-33-6e0418ee845a>\u001b[0m in \u001b[0;36m<cell line: 0>\u001b[0;34m()\u001b[0m\n\u001b[1;32m      1\u001b[0m \u001b[0ms\u001b[0m\u001b[0;34m=\u001b[0m\u001b[0;34m\"Python\"\u001b[0m\u001b[0;34m\u001b[0m\u001b[0;34m\u001b[0m\u001b[0m\n\u001b[0;32m----> 2\u001b[0;31m \u001b[0ms\u001b[0m\u001b[0;34m[\u001b[0m\u001b[0;36m1\u001b[0m\u001b[0;34m]\u001b[0m\u001b[0;34m=\u001b[0m\u001b[0;34m\"i\"\u001b[0m\u001b[0;34m\u001b[0m\u001b[0;34m\u001b[0m\u001b[0m\n\u001b[0m\u001b[1;32m      3\u001b[0m \u001b[0ms\u001b[0m\u001b[0;34m\u001b[0m\u001b[0;34m\u001b[0m\u001b[0m\n",
            "\u001b[0;31mTypeError\u001b[0m: 'str' object does not support item assignment"
          ]
        }
      ]
    },
    {
      "cell_type": "code",
      "source": [
        "list1 = [1, 2, 3, 4]\n",
        "list1[2] = 5 # list is Mutatable. it changes index value.\n",
        "list1"
      ],
      "metadata": {
        "colab": {
          "base_uri": "https://localhost:8080/"
        },
        "id": "yzGGlsD6bA1h",
        "outputId": "e064b6a2-50d9-4fe7-fa2b-156a99a187e8"
      },
      "execution_count": null,
      "outputs": [
        {
          "output_type": "execute_result",
          "data": {
            "text/plain": [
              "[1, 2, 5, 4]"
            ]
          },
          "metadata": {},
          "execution_count": 34
        }
      ]
    },
    {
      "cell_type": "code",
      "source": [],
      "metadata": {
        "id": "DI5b0OVobf0q"
      },
      "execution_count": null,
      "outputs": []
    },
    {
      "cell_type": "markdown",
      "source": [
        "# 3.What are the main differences between lists and tuples in Python\n",
        "--List is mutable which means its elements can be updated as per requirement.It is useful for insertion and deletion operations.It consumes more memory.\n",
        "Whereas Tuple is immutable which means we can't modify its element once created.Tuple iteration is faster.It consumes less memory.\n"
      ],
      "metadata": {
        "id": "YielaIH5bmGY"
      }
    },
    {
      "cell_type": "markdown",
      "source": [
        "#4. Describe how dictionaries store data.\n",
        "---Dictionary is a data structure that store data as key- value pair.\n",
        "--keys are unique and immutable.\n",
        "For Example:"
      ],
      "metadata": {
        "id": "sjmjZco9y1Er"
      }
    },
    {
      "cell_type": "code",
      "source": [
        "dic ={\"Name\":\"Priyanka\",\"Address\":\"asansol\"}\n",
        "dic.keys()"
      ],
      "metadata": {
        "colab": {
          "base_uri": "https://localhost:8080/"
        },
        "id": "gsGZ5dqJz0ce",
        "outputId": "de431e20-aa78-4825-aa95-1af95b045d43"
      },
      "execution_count": null,
      "outputs": [
        {
          "output_type": "execute_result",
          "data": {
            "text/plain": [
              "dict_keys(['Name', 'Address'])"
            ]
          },
          "metadata": {},
          "execution_count": 8
        }
      ]
    },
    {
      "cell_type": "code",
      "source": [
        "dic.values()"
      ],
      "metadata": {
        "colab": {
          "base_uri": "https://localhost:8080/"
        },
        "id": "ftOJFD2yz0XX",
        "outputId": "1a38e4be-17f1-4890-9a97-e48b88b09dfa"
      },
      "execution_count": null,
      "outputs": [
        {
          "output_type": "execute_result",
          "data": {
            "text/plain": [
              "dict_values(['Priyanka', 'asansol'])"
            ]
          },
          "metadata": {},
          "execution_count": 9
        }
      ]
    },
    {
      "cell_type": "markdown",
      "source": [
        "# 5 Why might you use a set instead of a list in Python3\n",
        "---sets cannot have multiple occurrences of the same element, it makes sets highly useful to efficiently remove duplicate values from a list."
      ],
      "metadata": {
        "id": "Znc6nKf70dw2"
      }
    },
    {
      "cell_type": "markdown",
      "source": [
        "#6.What is a string in Python, and how is it different from a list\n",
        "----**Strings:**\n",
        "\n",
        "Strings are sequences of characters (letters, numbers, symbols, etc.).\n",
        "\n",
        "They are immutable, meaning their content cannot be changed after creation.\n",
        "\n",
        "Strings are enclosed in single or double quotes (e.g., \"hello\" or 'world').\n",
        "\n",
        "They are primarily used for storing and manipulating text data.\n",
        "\n",
        "**Lists:**\n",
        "\n",
        "Lists are ordered collections of items.\n",
        "\n",
        "Lists are mutable, meaning you can add, remove, or modify items after creation.\n",
        "\n",
        "Lists are defined using square brackets (e.g., [1, 2, 3] or [“apple”, “banana”, “cherry”]).\n",
        "\n",
        "Lists can contain elements of different data types (e.g., numbers, strings, booleans, even other lists).\n",
        "\n",
        "Lists are used for storing and manipulating collections of data."
      ],
      "metadata": {
        "id": "lQCJ61MD1c8t"
      }
    },
    {
      "cell_type": "code",
      "source": [],
      "metadata": {
        "id": "lyBq3MQ12prq"
      },
      "execution_count": null,
      "outputs": []
    },
    {
      "cell_type": "markdown",
      "source": [
        "# 7. How do tuples ensure data integrity in Python?\n",
        "--Tuples in Python ensure data integrity primarily through their immutability. Once a tuple is created, its elements cannot be modified, added, or removed. This characteristic guarantees that the data within a tuple remains constant throughout its lifecycle.\n"
      ],
      "metadata": {
        "id": "fcF4auQ22qPS"
      }
    },
    {
      "cell_type": "markdown",
      "source": [
        "# 8.What is a hash table, and how does it relate to dictionaries in Python?\n",
        "\n",
        "--A hash table is a data stucture that store data in key-value pairs. And allows very fast access to values using keys.\n",
        "In dictionary data also  store as key-value pairs. And value can be access by using keys."
      ],
      "metadata": {
        "id": "7fton2EQ3Im_"
      }
    },
    {
      "cell_type": "markdown",
      "source": [
        "#9. Can lists contain different data types in Python?\n",
        "---Yes, lists in Python can contain different data types. A single list can hold integers, floats, strings, booleans, and even other lists, tuples, or dictionaries.\n",
        "for example"
      ],
      "metadata": {
        "id": "v3i7Pccc3e4a"
      }
    },
    {
      "cell_type": "code",
      "source": [
        "list1 =[1,2,\"Python\", 2.3, (2,3,4),{\"key\":\"value\"}]\n",
        "list1"
      ],
      "metadata": {
        "colab": {
          "base_uri": "https://localhost:8080/"
        },
        "id": "8-Rlc6dR39nl",
        "outputId": "1f637704-e34d-427c-87fb-0308dd7052eb"
      },
      "execution_count": null,
      "outputs": [
        {
          "output_type": "execute_result",
          "data": {
            "text/plain": [
              "[1, 2, 'Python', 2.3, (2, 3, 4), {'key': 'value'}]"
            ]
          },
          "metadata": {},
          "execution_count": 12
        }
      ]
    },
    {
      "cell_type": "code",
      "source": [
        "type(list1)"
      ],
      "metadata": {
        "id": "GzgqXaBXc7vi",
        "colab": {
          "base_uri": "https://localhost:8080/"
        },
        "outputId": "56650375-2f66-4bc2-ae88-8290a50da69a"
      },
      "execution_count": null,
      "outputs": [
        {
          "output_type": "execute_result",
          "data": {
            "text/plain": [
              "list"
            ]
          },
          "metadata": {},
          "execution_count": 13
        }
      ]
    },
    {
      "cell_type": "markdown",
      "source": [
        "#10. Explain why strings are immutable in Python?\n",
        "--We can access the index of a string but can not assign or change the index value. we can  replace a string."
      ],
      "metadata": {
        "id": "EEMa1Sd44dfT"
      }
    },
    {
      "cell_type": "code",
      "source": [
        "#For Example:\n",
        "s=\"Pwskills\"\n",
        "s[1]=\"t\" #throw an error\n",
        "s"
      ],
      "metadata": {
        "colab": {
          "base_uri": "https://localhost:8080/",
          "height": 203
        },
        "id": "KYv6XG985iz1",
        "outputId": "bc20e57a-c2d2-4c67-fcfc-d98205e7d1a9"
      },
      "execution_count": null,
      "outputs": [
        {
          "output_type": "error",
          "ename": "TypeError",
          "evalue": "'str' object does not support item assignment",
          "traceback": [
            "\u001b[0;31m---------------------------------------------------------------------------\u001b[0m",
            "\u001b[0;31mTypeError\u001b[0m                                 Traceback (most recent call last)",
            "\u001b[0;32m<ipython-input-14-1009380428>\u001b[0m in \u001b[0;36m<cell line: 0>\u001b[0;34m()\u001b[0m\n\u001b[1;32m      1\u001b[0m \u001b[0;31m#For Example:\u001b[0m\u001b[0;34m\u001b[0m\u001b[0;34m\u001b[0m\u001b[0m\n\u001b[1;32m      2\u001b[0m \u001b[0ms\u001b[0m\u001b[0;34m=\u001b[0m\u001b[0;34m\"Pwskills\"\u001b[0m\u001b[0;34m\u001b[0m\u001b[0;34m\u001b[0m\u001b[0m\n\u001b[0;32m----> 3\u001b[0;31m \u001b[0ms\u001b[0m\u001b[0;34m[\u001b[0m\u001b[0;36m1\u001b[0m\u001b[0;34m]\u001b[0m\u001b[0;34m=\u001b[0m\u001b[0;34m\"t\"\u001b[0m\u001b[0;34m\u001b[0m\u001b[0;34m\u001b[0m\u001b[0m\n\u001b[0m\u001b[1;32m      4\u001b[0m \u001b[0ms\u001b[0m\u001b[0;34m\u001b[0m\u001b[0;34m\u001b[0m\u001b[0m\n",
            "\u001b[0;31mTypeError\u001b[0m: 'str' object does not support item assignment"
          ]
        }
      ]
    },
    {
      "cell_type": "code",
      "source": [
        "# Modification of string\n",
        "s1 = \"I am a Student\"\n",
        "s1 = s1.replace(\"Student\",\"Teacher\")\n",
        "s1"
      ],
      "metadata": {
        "colab": {
          "base_uri": "https://localhost:8080/",
          "height": 36
        },
        "id": "kHCygABi80pb",
        "outputId": "9c3f9169-2dc6-43a9-ab19-122d5392fcc5"
      },
      "execution_count": null,
      "outputs": [
        {
          "output_type": "execute_result",
          "data": {
            "text/plain": [
              "'I am a Teacher'"
            ],
            "application/vnd.google.colaboratory.intrinsic+json": {
              "type": "string"
            }
          },
          "metadata": {},
          "execution_count": 22
        }
      ]
    },
    {
      "cell_type": "markdown",
      "source": [
        "# 11.What advantages do dictionaries offer over lists for certain tasks.\n",
        "-- dictionary is Perfect for key-value pairs—associate unique keys with values.\n",
        "\n",
        "- Offer fast lookups, insertion, and deletion due to hash table implementation.\n",
        "\n",
        "- Flexible for handling complex data—store nested complex structures, including dictionaries within dictionaries to model hierarchies\n",
        "\n",
        "-   Lists are more memory-efficient with smaller datasets.\n",
        "\n",
        "- Dictionaries consume more memory (keys + values) but offer speed advantages"
      ],
      "metadata": {
        "id": "G4LoDNrvme-T"
      }
    },
    {
      "cell_type": "markdown",
      "source": [
        "# 12.Describe a scenario where using a tuple would be preferable over a list\n",
        "\n",
        "---tuples are preferred over lists in the following cases:\n",
        "\n",
        "---When we want to ensure that data is not changed accidentally. Tuples being immutable do not allow any changes in its data.\n",
        "\n",
        "\n",
        "---When we want faster access to data that will not change as tuples are faster than lists.\n",
        "\n",
        "---When we want to use the data as a key in a dictionary. Tuples can be used as keys in a dictionary, but lists cannot.\n",
        "\n",
        "---When we want to use the data as an element of a set. Tuples can be used as elements of a set, but lists cannot.\n"
      ],
      "metadata": {
        "id": "emClxhknoQrb"
      }
    },
    {
      "cell_type": "markdown",
      "source": [
        "# 13.How do sets handle duplicate values in Python ?\n",
        "---Set autometically remove the duplicate value & retun the Unique value.\n",
        "\n",
        "For exampple.\n"
      ],
      "metadata": {
        "id": "J4jlJ-uDpn-S"
      }
    },
    {
      "cell_type": "code",
      "source": [
        "Num = [1,2,2,3,5,5,5,6,6,8,8]\n",
        "Num1 = set(Num)\n",
        "Num1\n"
      ],
      "metadata": {
        "colab": {
          "base_uri": "https://localhost:8080/"
        },
        "id": "a-FG1DKCqTTS",
        "outputId": "d8dcec79-6d1f-46af-da25-4371758fb3ee"
      },
      "execution_count": null,
      "outputs": [
        {
          "output_type": "execute_result",
          "data": {
            "text/plain": [
              "{1, 2, 3, 5, 6, 8}"
            ]
          },
          "metadata": {},
          "execution_count": 3
        }
      ]
    },
    {
      "cell_type": "markdown",
      "source": [
        " # 14.How does the “in” keyword work differently for lists and dictionaries\n",
        "\n",
        "---The \"in\" keyword works as a membership operator for lists and dictionaries.\n",
        "\n",
        "for example."
      ],
      "metadata": {
        "id": "hUMoT7tYsWzh"
      }
    },
    {
      "cell_type": "code",
      "source": [
        "List1 = [\"Fruits\",\"vegetables\",\"Milk\",\"eggs\"]\n",
        "\"Milk\" in List1"
      ],
      "metadata": {
        "colab": {
          "base_uri": "https://localhost:8080/"
        },
        "id": "PnvBZPThscLq",
        "outputId": "9b963668-fd70-41e7-e30f-264a8b864984"
      },
      "execution_count": null,
      "outputs": [
        {
          "output_type": "execute_result",
          "data": {
            "text/plain": [
              "True"
            ]
          },
          "metadata": {},
          "execution_count": 4
        }
      ]
    },
    {
      "cell_type": "code",
      "source": [
        "Dict1 = {\"Fruits\": \"Apple\",\"Vegetables\":\"Tomato\"}\n",
        "for keys in Dict1:\n",
        "  print (keys)"
      ],
      "metadata": {
        "colab": {
          "base_uri": "https://localhost:8080/"
        },
        "id": "T_4spMLps6EJ",
        "outputId": "169eae6c-63f5-4c01-dc8e-77aaf806795e"
      },
      "execution_count": null,
      "outputs": [
        {
          "output_type": "stream",
          "name": "stdout",
          "text": [
            "Fruits\n",
            "Vegetables\n"
          ]
        }
      ]
    },
    {
      "cell_type": "markdown",
      "source": [
        "# 15.Can you modify the elements of a tuple? Explain why or why not?\n",
        "---No, tuple elements can not be modified. If we want to change or modify any element of a tuple it throws an error.\n",
        "\n",
        "For Example:"
      ],
      "metadata": {
        "id": "qnlIIjZ5tjUD"
      }
    },
    {
      "cell_type": "code",
      "source": [
        "emp_id = (1,2,3,4)\n",
        "emp_id[1] = 100\n",
        "emp_id"
      ],
      "metadata": {
        "colab": {
          "base_uri": "https://localhost:8080/",
          "height": 176
        },
        "id": "q1nw4bBLvNo7",
        "outputId": "c23de342-7533-4ced-d5a6-89c62b5401c5"
      },
      "execution_count": null,
      "outputs": [
        {
          "output_type": "error",
          "ename": "TypeError",
          "evalue": "'tuple' object does not support item assignment",
          "traceback": [
            "\u001b[0;31m---------------------------------------------------------------------------\u001b[0m",
            "\u001b[0;31mTypeError\u001b[0m                                 Traceback (most recent call last)",
            "\u001b[0;32m<ipython-input-7-1371117248>\u001b[0m in \u001b[0;36m<cell line: 0>\u001b[0;34m()\u001b[0m\n\u001b[1;32m      1\u001b[0m \u001b[0memp_id\u001b[0m \u001b[0;34m=\u001b[0m \u001b[0;34m(\u001b[0m\u001b[0;36m1\u001b[0m\u001b[0;34m,\u001b[0m\u001b[0;36m2\u001b[0m\u001b[0;34m,\u001b[0m\u001b[0;36m3\u001b[0m\u001b[0;34m,\u001b[0m\u001b[0;36m4\u001b[0m\u001b[0;34m)\u001b[0m\u001b[0;34m\u001b[0m\u001b[0;34m\u001b[0m\u001b[0m\n\u001b[0;32m----> 2\u001b[0;31m \u001b[0memp_id\u001b[0m\u001b[0;34m[\u001b[0m\u001b[0;36m1\u001b[0m\u001b[0;34m]\u001b[0m \u001b[0;34m=\u001b[0m \u001b[0;36m100\u001b[0m\u001b[0;34m\u001b[0m\u001b[0;34m\u001b[0m\u001b[0m\n\u001b[0m\u001b[1;32m      3\u001b[0m \u001b[0memp_id\u001b[0m\u001b[0;34m\u001b[0m\u001b[0;34m\u001b[0m\u001b[0m\n",
            "\u001b[0;31mTypeError\u001b[0m: 'tuple' object does not support item assignment"
          ]
        }
      ]
    },
    {
      "cell_type": "markdown",
      "source": [
        "# 16.What is a nested dictionary, and give an example of its use case?\n",
        "\n",
        "---In Python, a nested dictionary is a dictionary inside a dictionary. It's a collection of dictionaries into one single dictionary."
      ],
      "metadata": {
        "id": "nD9U7iXQwqFr"
      }
    },
    {
      "cell_type": "code",
      "source": [
        "# use case\n",
        "Resturant_menu ={\n",
        "   'Dish1':{\"name\": \"Pasta\",\"price\":\"250\",\"description\": \"creamy pasta\"},\n",
        "   \"Dish2\":{\"name\": \"Pizza\" , \"Price\":\"350\",\"description\":\"cheese pizza\"}\n",
        "}\n",
        "Resturant_menu"
      ],
      "metadata": {
        "colab": {
          "base_uri": "https://localhost:8080/"
        },
        "id": "k1gKFkgyxOUR",
        "outputId": "262a480e-e96a-4f36-ab4e-3d9e0f9fc09b"
      },
      "execution_count": null,
      "outputs": [
        {
          "output_type": "execute_result",
          "data": {
            "text/plain": [
              "{'Dish1': {'name': 'Pasta', 'price': '250', 'description': 'creamy pasta'},\n",
              " 'Dish2': {'name': 'Pizza', 'Price': '350', 'description': 'cheese pizza'}}"
            ]
          },
          "metadata": {},
          "execution_count": 9
        }
      ]
    },
    {
      "cell_type": "code",
      "source": [
        "Resturant_menu['Dish1']"
      ],
      "metadata": {
        "colab": {
          "base_uri": "https://localhost:8080/"
        },
        "id": "4U7maNUsyniD",
        "outputId": "506c7a9b-30da-4143-9a37-fd2c286dc089"
      },
      "execution_count": null,
      "outputs": [
        {
          "output_type": "execute_result",
          "data": {
            "text/plain": [
              "{'name': 'Pasta', 'price': '250', 'description': 'creamy pasta'}"
            ]
          },
          "metadata": {},
          "execution_count": 11
        }
      ]
    },
    {
      "cell_type": "markdown",
      "source": [
        "#. 17.Describe the time complexity of accessing elements in a dictionary.\n",
        "\n",
        "--The time complexity of accessing a dictionary in Python 3 is generally considered to be O(1), or constant time. This means that regardless of the size of the dictionary, the time it takes to access a value remains constant. However, this assumes that the hash function used by Python is well-distributed and avoids collisions as much as possible."
      ],
      "metadata": {
        "id": "-TJiovXazCFy"
      }
    },
    {
      "cell_type": "markdown",
      "source": [
        "# 18.In what situations are lists preferred over dictionaries.\n",
        "\n",
        "--When we  need an ordered collection with duplicate value at that time lists is preferred over dictionaries. because dictionaries return unique & unorderd value."
      ],
      "metadata": {
        "id": "3VuT0lZR1yuC"
      }
    },
    {
      "cell_type": "markdown",
      "source": [
        "# 19.Why are dictionaries considered unordered, and how does that affect data retrieval.\n",
        "---In python version before 3.7, dictionaries were implemented as hash tables and:\n",
        "\n",
        "\n",
        "*   Did not gurantee the order keys.\n",
        "*   The insertion order could appear random.\n",
        "\n",
        "\n",
        "*   Internally, the position of keys depended on their hash value, not on when they are add.\n",
        " From python 3.7 onward,dictionary preserve insertion order. but despite this they are still not designed for index access like list or tuple. You must access items by key.\n",
        "\n",
        " #How being unorderd affacted data retrieval.\n",
        "\n",
        "\n",
        "*   No indexing by position.\n",
        "*   oder sensitive operation fail.\n",
        "\n",
        "\n",
        "*   Sorting needed extra work.\n",
        "\n",
        "\n",
        "\n",
        "\n",
        "\n",
        "\n",
        "\n"
      ],
      "metadata": {
        "id": "CbR39ntPBULh"
      }
    },
    {
      "cell_type": "markdown",
      "source": [
        "# 20.Explain the difference between a list and a dictionary in terms of data retrieval.\n",
        "\n",
        "--In List Data can ne retrieve by accessing index. but in dictionary data can be retrieve by using key.\n"
      ],
      "metadata": {
        "id": "2RpFt2NpFUBR"
      }
    },
    {
      "cell_type": "markdown",
      "source": [],
      "metadata": {
        "id": "FQEb_o-iI0K5"
      }
    },
    {
      "cell_type": "code",
      "source": [
        "# for Example in List.\n",
        "List1 = [\"orange\", \"apple\",\"banana\"]\n",
        "List1[0] # data retrieve by using index"
      ],
      "metadata": {
        "colab": {
          "base_uri": "https://localhost:8080/",
          "height": 35
        },
        "id": "23EQagksI0tx",
        "outputId": "39bff8ac-22e9-43d7-ab1c-d6b0d397d98d"
      },
      "execution_count": null,
      "outputs": [
        {
          "output_type": "execute_result",
          "data": {
            "text/plain": [
              "'orange'"
            ],
            "application/vnd.google.colaboratory.intrinsic+json": {
              "type": "string"
            }
          },
          "metadata": {},
          "execution_count": 12
        }
      ]
    },
    {
      "cell_type": "code",
      "source": [
        "#in dictionary\n",
        "dict1 ={\"fruit1\": \"orange\", \"fruit2\":\"apple\", \"Fruit3\":\"banana\"}\n",
        "dict1[\"fruit1\"]# data retrieve by using Key"
      ],
      "metadata": {
        "colab": {
          "base_uri": "https://localhost:8080/",
          "height": 35
        },
        "id": "qkXAk1SfH48p",
        "outputId": "4687bb1c-5e9d-45e0-fca1-8ae93f9753f6"
      },
      "execution_count": null,
      "outputs": [
        {
          "output_type": "execute_result",
          "data": {
            "text/plain": [
              "'orange'"
            ],
            "application/vnd.google.colaboratory.intrinsic+json": {
              "type": "string"
            }
          },
          "metadata": {},
          "execution_count": 13
        }
      ]
    },
    {
      "cell_type": "code",
      "source": [],
      "metadata": {
        "id": "ojP4F87RJrCG"
      },
      "execution_count": null,
      "outputs": []
    },
    {
      "cell_type": "markdown",
      "source": [],
      "metadata": {
        "id": "TyT7UmcEsQV5"
      }
    },
    {
      "cell_type": "markdown",
      "source": [
        "**Practical Questions**"
      ],
      "metadata": {
        "id": "yUDqD4y_PE6I"
      }
    },
    {
      "cell_type": "code",
      "source": [],
      "metadata": {
        "id": "14Ah83Mf8lrZ"
      },
      "execution_count": null,
      "outputs": []
    },
    {
      "cell_type": "code",
      "source": [
        "# 1. Write a code to create a string with your name and print it.\n",
        "Str1 = \"Priyanka\"\n",
        "print(Str1)"
      ],
      "metadata": {
        "colab": {
          "base_uri": "https://localhost:8080/"
        },
        "id": "RwNtSpzIPLyw",
        "outputId": "c92a1b4d-934f-48df-c09c-9c5d825b9cbd"
      },
      "execution_count": null,
      "outputs": [
        {
          "output_type": "stream",
          "name": "stdout",
          "text": [
            "Priyanka\n"
          ]
        }
      ]
    },
    {
      "cell_type": "code",
      "source": [
        "# 2.Write a code to find the length of the string \"Hello World\".\n",
        "s = \"Hello World\"\n",
        "len(s)"
      ],
      "metadata": {
        "colab": {
          "base_uri": "https://localhost:8080/"
        },
        "id": "24hidxs_PL3f",
        "outputId": "87a51aa7-677d-420a-a25e-db2ac9bfc1d2"
      },
      "execution_count": null,
      "outputs": [
        {
          "output_type": "execute_result",
          "data": {
            "text/plain": [
              "11"
            ]
          },
          "metadata": {},
          "execution_count": 6
        }
      ]
    },
    {
      "cell_type": "code",
      "source": [
        "# 3. Write a code to slice the first 3 characters from the string \"Python Programming\n",
        "s = \"Python Programming\"\n",
        "s[0:3]"
      ],
      "metadata": {
        "colab": {
          "base_uri": "https://localhost:8080/",
          "height": 35
        },
        "id": "yYVaKwm1PL9R",
        "outputId": "76949473-5935-4b85-d7a5-c2c53e536501"
      },
      "execution_count": null,
      "outputs": [
        {
          "output_type": "execute_result",
          "data": {
            "text/plain": [
              "'Pyt'"
            ],
            "application/vnd.google.colaboratory.intrinsic+json": {
              "type": "string"
            }
          },
          "metadata": {},
          "execution_count": 7
        }
      ]
    },
    {
      "cell_type": "code",
      "source": [
        "# 4.Write a code to convert the string \"hello\" to uppercase.\n",
        "s = \"hello\"\n",
        "s.upper()"
      ],
      "metadata": {
        "colab": {
          "base_uri": "https://localhost:8080/",
          "height": 35
        },
        "id": "Nvnq9o31RIRp",
        "outputId": "9c3db6d2-9c00-43c7-9106-ec062336f21e"
      },
      "execution_count": null,
      "outputs": [
        {
          "output_type": "execute_result",
          "data": {
            "text/plain": [
              "'HELLO'"
            ],
            "application/vnd.google.colaboratory.intrinsic+json": {
              "type": "string"
            }
          },
          "metadata": {},
          "execution_count": 8
        }
      ]
    },
    {
      "cell_type": "code",
      "source": [
        "# 5.Write a code to replace the word \"apple\" with \"orange\" in the string \"I like apple\"\n",
        "s = \"I like apple\"\n",
        "s.replace(\"apple\",\"orange\")"
      ],
      "metadata": {
        "colab": {
          "base_uri": "https://localhost:8080/",
          "height": 35
        },
        "id": "uoJG3hk2RZmf",
        "outputId": "ba2485b0-524c-436c-f5ee-6833376d9001"
      },
      "execution_count": null,
      "outputs": [
        {
          "output_type": "execute_result",
          "data": {
            "text/plain": [
              "'I like orange'"
            ],
            "application/vnd.google.colaboratory.intrinsic+json": {
              "type": "string"
            }
          },
          "metadata": {},
          "execution_count": 9
        }
      ]
    },
    {
      "cell_type": "code",
      "source": [
        "# 6.Write a code to create a list with numbers 1 to 5 and print it.\n",
        "lis1 = [1,2,3,4,5]\n",
        "print(lis1)"
      ],
      "metadata": {
        "colab": {
          "base_uri": "https://localhost:8080/"
        },
        "id": "zEyXl5JtRoUJ",
        "outputId": "e0397940-30f3-4da5-a880-a38f72f051f3"
      },
      "execution_count": null,
      "outputs": [
        {
          "output_type": "stream",
          "name": "stdout",
          "text": [
            "[1, 2, 3, 4, 5]\n"
          ]
        }
      ]
    },
    {
      "cell_type": "code",
      "source": [
        "# 7.Write a code to append the number 10 to the list [1, 2, 3, 4]\n",
        "a=[1,2,3,4]\n",
        "a.append(10)\n",
        "print(a)"
      ],
      "metadata": {
        "colab": {
          "base_uri": "https://localhost:8080/"
        },
        "id": "enspMS0kSwiZ",
        "outputId": "a7184478-be1d-47f4-f267-e7282ee3a91f"
      },
      "execution_count": null,
      "outputs": [
        {
          "output_type": "stream",
          "name": "stdout",
          "text": [
            "[1, 2, 3, 4, 10]\n"
          ]
        }
      ]
    },
    {
      "cell_type": "code",
      "source": [
        "# 8.Write a code to remove the number 3 from the list [1, 2, 3, 4, 5]\n",
        "lis=[1,2,3,4,5]\n",
        "lis.remove(3)\n",
        "print(lis)"
      ],
      "metadata": {
        "colab": {
          "base_uri": "https://localhost:8080/"
        },
        "id": "ep5ctF8cTysi",
        "outputId": "fc11f7cc-e3d0-467e-b049-f40f8fa99144"
      },
      "execution_count": null,
      "outputs": [
        {
          "output_type": "stream",
          "name": "stdout",
          "text": [
            "[1, 2, 4, 5]\n"
          ]
        }
      ]
    },
    {
      "cell_type": "code",
      "source": [
        "# 9.Write a code to access the second element in the list ['a', 'b', 'c', 'd']\n",
        "l = ['a','b','c','d']\n",
        "l[1]"
      ],
      "metadata": {
        "colab": {
          "base_uri": "https://localhost:8080/",
          "height": 35
        },
        "id": "zcB-wl7qT-7w",
        "outputId": "a8704b40-1243-464f-cd85-a45e8ffbf623"
      },
      "execution_count": null,
      "outputs": [
        {
          "output_type": "execute_result",
          "data": {
            "text/plain": [
              "'b'"
            ],
            "application/vnd.google.colaboratory.intrinsic+json": {
              "type": "string"
            }
          },
          "metadata": {},
          "execution_count": 17
        }
      ]
    },
    {
      "cell_type": "code",
      "source": [
        "#10.Write a code to reverse the list [10, 20, 30, 40, 50]\n",
        "a = [10,20,30,40,50]\n",
        "a.reverse()\n",
        "print(a)"
      ],
      "metadata": {
        "colab": {
          "base_uri": "https://localhost:8080/"
        },
        "id": "zJHpl6jcUcTC",
        "outputId": "69f18fed-0f8c-4800-a860-41d513137645"
      },
      "execution_count": null,
      "outputs": [
        {
          "output_type": "stream",
          "name": "stdout",
          "text": [
            "[50, 40, 30, 20, 10]\n"
          ]
        }
      ]
    },
    {
      "cell_type": "code",
      "source": [
        "# 11. Write a code to create a tuple with the elements 100, 200, 300 and print it\n",
        "tup = (100,200,300)\n",
        "print(tup)"
      ],
      "metadata": {
        "colab": {
          "base_uri": "https://localhost:8080/"
        },
        "id": "WjkWgnCKUsCI",
        "outputId": "000f3345-87f6-438f-93e9-97569e750a19"
      },
      "execution_count": null,
      "outputs": [
        {
          "output_type": "stream",
          "name": "stdout",
          "text": [
            "(100, 200, 300)\n"
          ]
        }
      ]
    },
    {
      "cell_type": "code",
      "source": [
        "# 12. Write a code to access the second-to-last element of the tuple ('red', 'green', 'blue', 'yellow')\n",
        "tup = ('red','green','blue','yellow')\n",
        "tup[1:4]"
      ],
      "metadata": {
        "colab": {
          "base_uri": "https://localhost:8080/"
        },
        "id": "zh_7WrLrVngA",
        "outputId": "b3c7547d-4008-4207-f80a-68e126bc76a4"
      },
      "execution_count": null,
      "outputs": [
        {
          "output_type": "execute_result",
          "data": {
            "text/plain": [
              "('green', 'blue', 'yellow')"
            ]
          },
          "metadata": {},
          "execution_count": 25
        }
      ]
    },
    {
      "cell_type": "code",
      "source": [
        "# 13.Write a code to find the minimum number in the tuple (10, 20, 5, 15)\n",
        "tup = (10,20,5,15)\n",
        "print(min(tup))\n"
      ],
      "metadata": {
        "colab": {
          "base_uri": "https://localhost:8080/"
        },
        "id": "H9xps3dTV4QQ",
        "outputId": "9a477a7b-d8be-4f26-f481-f196be192af1"
      },
      "execution_count": null,
      "outputs": [
        {
          "output_type": "stream",
          "name": "stdout",
          "text": [
            "5\n"
          ]
        }
      ]
    },
    {
      "cell_type": "code",
      "source": [
        "# 14.Write a code to find the index of the element \"cat\" in the tuple ('dog', 'cat', 'rabbit')\n",
        "tup =('dog', 'cat', 'rabit')\n",
        "tup[1]"
      ],
      "metadata": {
        "colab": {
          "base_uri": "https://localhost:8080/",
          "height": 35
        },
        "id": "X4fzZxCxWTXo",
        "outputId": "d1104208-c3c3-4724-9e27-32011777d60c"
      },
      "execution_count": null,
      "outputs": [
        {
          "output_type": "execute_result",
          "data": {
            "text/plain": [
              "'cat'"
            ],
            "application/vnd.google.colaboratory.intrinsic+json": {
              "type": "string"
            }
          },
          "metadata": {},
          "execution_count": 29
        }
      ]
    },
    {
      "cell_type": "code",
      "source": [
        "# 15. Write a code to create a tuple containing three different fruits and check if \"kiwi\" is in it\n",
        "tup =(\"apple\",\"orange\", \"kiwi\")\n",
        "\"kiwi\" in tup"
      ],
      "metadata": {
        "colab": {
          "base_uri": "https://localhost:8080/"
        },
        "id": "iPbhuKWaXC0I",
        "outputId": "3de2f029-91cf-49ca-e423-ab76d06e28fb"
      },
      "execution_count": null,
      "outputs": [
        {
          "output_type": "execute_result",
          "data": {
            "text/plain": [
              "True"
            ]
          },
          "metadata": {},
          "execution_count": 32
        }
      ]
    },
    {
      "cell_type": "code",
      "source": [
        "# 16. Write a code to create a set with the elements 'a', 'b', 'c' and print it.\n",
        "s = {'a','b','c'}\n",
        "print(s)\n"
      ],
      "metadata": {
        "id": "9H8gKObVXb5I",
        "colab": {
          "base_uri": "https://localhost:8080/"
        },
        "outputId": "07038786-38cf-444d-b582-958c82051e9a"
      },
      "execution_count": null,
      "outputs": [
        {
          "output_type": "stream",
          "name": "stdout",
          "text": [
            "{'a', 'b', 'c'}\n"
          ]
        }
      ]
    },
    {
      "cell_type": "code",
      "source": [
        "type(s)"
      ],
      "metadata": {
        "colab": {
          "base_uri": "https://localhost:8080/"
        },
        "id": "4HuEU6Cqg_XM",
        "outputId": "99b72f66-0a75-463c-8720-18eecc65c30e"
      },
      "execution_count": null,
      "outputs": [
        {
          "output_type": "execute_result",
          "data": {
            "text/plain": [
              "set"
            ]
          },
          "metadata": {},
          "execution_count": 3
        }
      ]
    },
    {
      "cell_type": "code",
      "source": [
        "#17.Write a code to clear all elements from the set {1, 2, 3, 4, 5}.\n",
        "s={1,2,3,4,5}\n",
        "s"
      ],
      "metadata": {
        "colab": {
          "base_uri": "https://localhost:8080/"
        },
        "id": "zhEKqMNahHdS",
        "outputId": "446e1353-91e2-48a2-fffb-f23a10c5aaf4"
      },
      "execution_count": null,
      "outputs": [
        {
          "output_type": "execute_result",
          "data": {
            "text/plain": [
              "{1, 2, 3, 4, 5}"
            ]
          },
          "metadata": {},
          "execution_count": 4
        }
      ]
    },
    {
      "cell_type": "code",
      "source": [
        "s.clear()"
      ],
      "metadata": {
        "id": "a2z09jl9h7kE"
      },
      "execution_count": null,
      "outputs": []
    },
    {
      "cell_type": "code",
      "source": [
        "s"
      ],
      "metadata": {
        "colab": {
          "base_uri": "https://localhost:8080/"
        },
        "id": "oCmUlMmGh9dC",
        "outputId": "3e96ed52-498f-4d04-b203-99d7e1dfff3d"
      },
      "execution_count": null,
      "outputs": [
        {
          "output_type": "execute_result",
          "data": {
            "text/plain": [
              "set()"
            ]
          },
          "metadata": {},
          "execution_count": 6
        }
      ]
    },
    {
      "cell_type": "code",
      "source": [
        "# 18.Write a code to remove the element 4 from the set {1, 2, 3, 4}.\n",
        "s={1,2,3,4,}\n",
        "s"
      ],
      "metadata": {
        "colab": {
          "base_uri": "https://localhost:8080/"
        },
        "id": "cpbSeDARh-Iy",
        "outputId": "c4240945-71c6-4222-848d-9cf46f7b4eda"
      },
      "execution_count": null,
      "outputs": [
        {
          "output_type": "execute_result",
          "data": {
            "text/plain": [
              "{1, 2, 3, 4}"
            ]
          },
          "metadata": {},
          "execution_count": 7
        }
      ]
    },
    {
      "cell_type": "code",
      "source": [
        "s.remove(4)"
      ],
      "metadata": {
        "id": "gccGrzYNiSZC"
      },
      "execution_count": null,
      "outputs": []
    },
    {
      "cell_type": "code",
      "source": [
        "s"
      ],
      "metadata": {
        "colab": {
          "base_uri": "https://localhost:8080/"
        },
        "id": "KewubrOiiW-q",
        "outputId": "71c8d2b6-6c78-4e00-cdb6-d71e4b55b2b2"
      },
      "execution_count": null,
      "outputs": [
        {
          "output_type": "execute_result",
          "data": {
            "text/plain": [
              "{1, 2, 3}"
            ]
          },
          "metadata": {},
          "execution_count": 9
        }
      ]
    },
    {
      "cell_type": "code",
      "source": [
        "#19. Write a code to find the union of two sets {1, 2, 3} and {3, 4, 5}.\n",
        "s1={1,2,3}\n",
        "s2={3,4,5}\n",
        "s1|s2"
      ],
      "metadata": {
        "colab": {
          "base_uri": "https://localhost:8080/"
        },
        "id": "xdx7Fv93iXnJ",
        "outputId": "214a4990-bbdd-459d-ac9e-5157d92b87a7"
      },
      "execution_count": null,
      "outputs": [
        {
          "output_type": "execute_result",
          "data": {
            "text/plain": [
              "{1, 2, 3, 4, 5}"
            ]
          },
          "metadata": {},
          "execution_count": 10
        }
      ]
    },
    {
      "cell_type": "code",
      "source": [
        "#20.Write a code to find the intersection of two sets {1, 2, 3} and {2, 3, 4}.\n",
        "s1 = {1,2,3}\n",
        "s2 = {2,3,4}\n",
        "s1&s2"
      ],
      "metadata": {
        "colab": {
          "base_uri": "https://localhost:8080/"
        },
        "id": "tAsa6g83irM6",
        "outputId": "b97457af-53cb-4188-89f5-01b698b8d3f0"
      },
      "execution_count": null,
      "outputs": [
        {
          "output_type": "execute_result",
          "data": {
            "text/plain": [
              "{2, 3}"
            ]
          },
          "metadata": {},
          "execution_count": 13
        }
      ]
    },
    {
      "cell_type": "code",
      "source": [
        "# 21.Write a code to create a dictionary with the keys \"name\", \"age\", and \"city\", and print it\n",
        "d = {\"name\":\"Priyanka\" ,\"Age\":\"37\",\"City\":\"Asansol\"}\n",
        "d\n"
      ],
      "metadata": {
        "colab": {
          "base_uri": "https://localhost:8080/"
        },
        "id": "kW73dQ4Ei8Qi",
        "outputId": "87890344-e2e4-4c8a-f9f0-28328ad711a8"
      },
      "execution_count": null,
      "outputs": [
        {
          "output_type": "execute_result",
          "data": {
            "text/plain": [
              "{'name': 'Priyanka', 'Age': '37', 'City': 'Asansol'}"
            ]
          },
          "metadata": {},
          "execution_count": 25
        }
      ]
    },
    {
      "cell_type": "code",
      "source": [
        "# 22.Write a code to add a new key-value pair \"country\": \"USA\" to the dictionary {'name': 'John', 'age': 25}\n",
        "d ={'name': 'John','age':'25'}\n",
        "d"
      ],
      "metadata": {
        "colab": {
          "base_uri": "https://localhost:8080/"
        },
        "id": "apBC5pTAlzTx",
        "outputId": "53b8ef84-455c-4e8c-9f4c-5ee12607d602"
      },
      "execution_count": null,
      "outputs": [
        {
          "output_type": "execute_result",
          "data": {
            "text/plain": [
              "{'name': 'John', 'age': '25'}"
            ]
          },
          "metadata": {},
          "execution_count": 20
        }
      ]
    },
    {
      "cell_type": "code",
      "source": [
        "d[\"country\"] ='USA'\n",
        "d"
      ],
      "metadata": {
        "colab": {
          "base_uri": "https://localhost:8080/"
        },
        "id": "dFtBL1BRoC-7",
        "outputId": "6472d936-9b93-427b-c056-e1bcdb1fa610"
      },
      "execution_count": null,
      "outputs": [
        {
          "output_type": "execute_result",
          "data": {
            "text/plain": [
              "{'name': 'John', 'age': '25', 'country': 'USA'}"
            ]
          },
          "metadata": {},
          "execution_count": 22
        }
      ]
    },
    {
      "cell_type": "code",
      "source": [
        "# 23.Write a code to access the value associated with the key \"name\" in the dictionary {'name': 'Alice', 'age': 30}\n",
        "d= {'name': \"Alice\",\"age\":30}\n",
        "d[\"name\"]"
      ],
      "metadata": {
        "colab": {
          "base_uri": "https://localhost:8080/",
          "height": 35
        },
        "id": "yHPiyqk9o7AL",
        "outputId": "116e98a4-ba52-4133-e4c6-2aa8e58b4d61"
      },
      "execution_count": null,
      "outputs": [
        {
          "output_type": "execute_result",
          "data": {
            "text/plain": [
              "'Alice'"
            ],
            "application/vnd.google.colaboratory.intrinsic+json": {
              "type": "string"
            }
          },
          "metadata": {},
          "execution_count": 26
        }
      ]
    },
    {
      "cell_type": "code",
      "source": [
        "# 24.Write a code to remove the key \"age\" from the dictionary {'name': 'Bob', 'age': 22, 'city': 'New York'}.\n",
        "d ={'name': 'Bob', 'age': 22, 'city': 'New York'}\n",
        "del d[\"age\"]\n",
        "d"
      ],
      "metadata": {
        "colab": {
          "base_uri": "https://localhost:8080/"
        },
        "id": "PwizUhhKqSzr",
        "outputId": "ce16548e-d69f-4935-fda0-5a984234f8d8"
      },
      "execution_count": null,
      "outputs": [
        {
          "output_type": "execute_result",
          "data": {
            "text/plain": [
              "{'name': 'Bob', 'city': 'New York'}"
            ]
          },
          "metadata": {},
          "execution_count": 31
        }
      ]
    },
    {
      "cell_type": "code",
      "source": [
        "# 25. Write a code to check if the key \"city\" exists in the dictionary {'name': 'Alice', 'city': 'Paris'}.\n",
        "d ={'name': 'Alice', 'city': 'Paris'}\n",
        "d.keys()"
      ],
      "metadata": {
        "colab": {
          "base_uri": "https://localhost:8080/"
        },
        "id": "nfHDddYIqlCb",
        "outputId": "f6aa92a6-75e4-421c-f80a-30106824b921"
      },
      "execution_count": null,
      "outputs": [
        {
          "output_type": "execute_result",
          "data": {
            "text/plain": [
              "dict_keys(['name', 'city'])"
            ]
          },
          "metadata": {},
          "execution_count": 32
        }
      ]
    },
    {
      "cell_type": "code",
      "source": [
        "# 26. Write a code to create a list, a tuple, and a dictionary, and print them all.\n",
        "list1 = [1,2,3.5,True,\"Python\"]\n",
        "tup = (1,2,2.3,\"Tuple\")\n",
        "dic1 = {\"name\": \"Priyanka\",\"age\": 37}\n",
        "print(list1)\n",
        "print(tup)\n",
        "print(dic1)\n",
        "\n",
        "\n"
      ],
      "metadata": {
        "id": "Z_oL_vIGrme6",
        "colab": {
          "base_uri": "https://localhost:8080/"
        },
        "outputId": "24c64c50-9c5c-4f92-9983-2e1f77512578"
      },
      "execution_count": null,
      "outputs": [
        {
          "output_type": "stream",
          "name": "stdout",
          "text": [
            "[1, 2, 3.5, True, 'Python']\n",
            "(1, 2, 2.3, 'Tuple')\n",
            "{'name': 'Priyanka', 'age': 37}\n"
          ]
        }
      ]
    },
    {
      "cell_type": "code",
      "source": [
        "# 27.Write a code to create a list of 5 random numbers between 1 and 100, sort it in ascending order, and print the result.(replaced)\n",
        "list1 = [25,10,35,90,60]\n",
        "list1.sort()"
      ],
      "metadata": {
        "id": "YGeS_SojtzqN"
      },
      "execution_count": null,
      "outputs": []
    },
    {
      "cell_type": "code",
      "source": [
        "list1"
      ],
      "metadata": {
        "colab": {
          "base_uri": "https://localhost:8080/"
        },
        "id": "zzSqvI2_z0Q8",
        "outputId": "ade176fa-c53c-481d-f802-0547bb65c3e4"
      },
      "execution_count": null,
      "outputs": [
        {
          "output_type": "execute_result",
          "data": {
            "text/plain": [
              "[10, 25, 35, 60, 90]"
            ]
          },
          "metadata": {},
          "execution_count": 38
        }
      ]
    },
    {
      "cell_type": "code",
      "source": [
        "# 28.Write a code to create a list with strings and print the element at the third index.\n",
        "l= [\"book\",\"copy\",\"pen\",\"pencil\"]\n",
        "l[3]\n"
      ],
      "metadata": {
        "colab": {
          "base_uri": "https://localhost:8080/",
          "height": 35
        },
        "id": "NjC9kKsvz1eU",
        "outputId": "983ab418-f0f3-42a3-d8a9-5d0189cb1b03"
      },
      "execution_count": null,
      "outputs": [
        {
          "output_type": "execute_result",
          "data": {
            "text/plain": [
              "'pencil'"
            ],
            "application/vnd.google.colaboratory.intrinsic+json": {
              "type": "string"
            }
          },
          "metadata": {},
          "execution_count": 40
        }
      ]
    },
    {
      "cell_type": "code",
      "source": [
        "#.29.Write a code to combine two dictionaries into one and print the result.\n",
        "d1 ={\"name\":\"Priyanka\",\"Age\": 37,\"email\":\"priya@gmail.com\"}\n",
        "d2 ={\"course\":\"data science\"}\n",
        "d1.update(d2)\n",
        "d1\n"
      ],
      "metadata": {
        "id": "jcQg8hPm1bHF",
        "colab": {
          "base_uri": "https://localhost:8080/"
        },
        "outputId": "6aad767e-ab41-4743-9da2-2147ca405c40"
      },
      "execution_count": null,
      "outputs": [
        {
          "output_type": "execute_result",
          "data": {
            "text/plain": [
              "{'name': 'Priyanka',\n",
              " 'Age': 37,\n",
              " 'email': 'priya@gmail.com',\n",
              " 'course': 'data science'}"
            ]
          },
          "metadata": {},
          "execution_count": 2
        }
      ]
    },
    {
      "cell_type": "code",
      "source": [
        "# 30.Write a code to convert a list of strings into a set.\n",
        "list1 = [\"Mango\",\"banana\", \"Mango\",\"Apple\"]\n",
        "list1"
      ],
      "metadata": {
        "colab": {
          "base_uri": "https://localhost:8080/"
        },
        "id": "CTl9y_fexTWI",
        "outputId": "384c0788-a106-4a51-a30b-5a46e013a39d"
      },
      "execution_count": null,
      "outputs": [
        {
          "output_type": "execute_result",
          "data": {
            "text/plain": [
              "['Mango', 'banana', 'Mango', 'Apple']"
            ]
          },
          "metadata": {},
          "execution_count": 3
        }
      ]
    },
    {
      "cell_type": "code",
      "source": [
        "type(list1)"
      ],
      "metadata": {
        "colab": {
          "base_uri": "https://localhost:8080/"
        },
        "id": "EDRF8h6ayOoq",
        "outputId": "0afd8dc4-2efc-4546-a1cf-cfb92ea73b02"
      },
      "execution_count": null,
      "outputs": [
        {
          "output_type": "execute_result",
          "data": {
            "text/plain": [
              "list"
            ]
          },
          "metadata": {},
          "execution_count": 4
        }
      ]
    },
    {
      "cell_type": "code",
      "source": [
        "s1 = set(list1)# gives only unique value.\n",
        "s1"
      ],
      "metadata": {
        "colab": {
          "base_uri": "https://localhost:8080/"
        },
        "id": "ZQvQ-gdlyQ9o",
        "outputId": "6fa5023a-058f-4376-9d1c-049c2a8c50e2"
      },
      "execution_count": null,
      "outputs": [
        {
          "output_type": "execute_result",
          "data": {
            "text/plain": [
              "{'Apple', 'Mango', 'banana'}"
            ]
          },
          "metadata": {},
          "execution_count": 5
        }
      ]
    },
    {
      "cell_type": "code",
      "source": [
        "type(s1)"
      ],
      "metadata": {
        "colab": {
          "base_uri": "https://localhost:8080/"
        },
        "id": "cHzrHG_Wybz2",
        "outputId": "ee7e6c77-24c2-4047-db25-92b44b88404d"
      },
      "execution_count": null,
      "outputs": [
        {
          "output_type": "execute_result",
          "data": {
            "text/plain": [
              "set"
            ]
          },
          "metadata": {},
          "execution_count": 6
        }
      ]
    },
    {
      "cell_type": "code",
      "source": [],
      "metadata": {
        "id": "ieecp8W5yevW"
      },
      "execution_count": null,
      "outputs": []
    }
  ]
}